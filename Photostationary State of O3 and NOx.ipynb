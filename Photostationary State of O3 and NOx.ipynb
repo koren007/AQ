{
 "cells": [
  {
   "cell_type": "markdown",
   "metadata": {},
   "source": [
    "# Photostationary state of O$_3$ and NO$_{\\mathrm{x}}$ "
   ]
  },
  {
   "cell_type": "markdown",
   "metadata": {},
   "source": [
    "*Gerbrand Koren (WUR-MAQ) - 3 November 2020*"
   ]
  },
  {
   "cell_type": "markdown",
   "metadata": {},
   "source": [
    "---"
   ]
  },
  {
   "cell_type": "markdown",
   "metadata": {},
   "source": [
    "## 1. Introduction\n",
    "\n",
    "We are going to explore the photostationary state between O$_3$, NO and NO$_2$ using a Jupyter Notebook. Before we dive into the chemistry, we first briefly explain what a Jupyter Notebook is, and how you can interact with it.\n",
    "\n",
    "#### What is a Jupyter Notebook?\n",
    "\n",
    "A Jupyter Notebook is a piece of software that allows you to write texts (like the one you are reading now!), write code, perform calculations and create figures.\n",
    "\n",
    "Jupyter Notebooks can be used for teaching, but also for scientific research (for instance for the research that we do at [MAQ](https://www.wur.nl/en/Research-Results/Chair-groups/Environmental-Sciences/Meteorology-and-Air-Quality-Group.htm)). For more information on Jupyter Notebooks, visit www.jupyter.org\n",
    "\n",
    "#### How does a Jupyter Notebook work?\n",
    "\n",
    "You can execute a piece of code by one of the following options:\n",
    "\n",
    "- Select the cell containing the code and press the button 'Run' in the menu above\n",
    "- Press `ctrl` + `enter` while selecting the cell\n",
    "\n",
    "#### Exercise 1: Test Jupyter Notebook\n",
    "\n",
    "> Try to execute the following cell, and see whether you are able to get the expected result"
   ]
  },
  {
   "cell_type": "code",
   "execution_count": null,
   "metadata": {},
   "outputs": [],
   "source": [
    "# -- Settings\n",
    "%matplotlib inline\n",
    "\n",
    "# -- Load packages\n",
    "import numpy as np\n",
    "import matplotlib.pyplot as plt\n",
    "\n",
    "# -- Test code\n",
    "1+1"
   ]
  },
  {
   "cell_type": "markdown",
   "metadata": {},
   "source": [
    "> Assuming this all went well (i.e. you got the result 2), we are ready to use this Jupyter Notebook to study the photostationary state of O$_3$, NO and NO$_2$"
   ]
  },
  {
   "cell_type": "markdown",
   "metadata": {},
   "source": [
    "---"
   ]
  },
  {
   "cell_type": "markdown",
   "metadata": {},
   "source": [
    "## 2. Steady state between O$_3$, NO and NO$_2$\n",
    "\n",
    "As explained in the lecture, incoming radiation can split NO$_2$ into NO and an oxygen radical\n",
    "\n",
    "\\begin{equation}\n",
    "\\mathrm{NO_2} + h\\nu \\xrightarrow{J_{\\mathrm{NO_2}}} \\mathrm{NO + O}\n",
    "\\tag{1}\n",
    "\\end{equation}\n",
    "\n",
    "The oxygen radical (O) can then combine with molecular oxygen (O$_2$) to form ozone (O$_3$)\n",
    "\n",
    "\\begin{equation}\n",
    "\\mathrm{O + O_2 + M} \\xrightarrow{k_1} \\mathrm{O_3 + M}\n",
    "\\tag{2}\n",
    "\\end{equation}\n",
    "\n",
    "Finally, the ozone can react with NO, to re-create NO$_2$\n",
    "\n",
    "\\begin{equation}\n",
    "\\mathrm{NO + O_3} \\xrightarrow{k_2} \\mathrm{NO_2 + O_2}\n",
    "\\tag{3}\n",
    "\\end{equation}\n",
    "\n",
    "We can now write the budget for NO by balancing the production term (Eq. 1) and its destruction (Eq. 3)\n",
    "\n",
    "\\begin{equation}\n",
    "\\frac{d[\\mathrm{NO}]}{dt} = J_{\\mathrm{NO_2}}[\\mathrm{NO_2}] - k_2\\mathrm{[NO][O_3]}\n",
    "\\tag{4}\n",
    "\\end{equation}\n",
    "\n",
    "In case of steady state (i.e., d/dt = 0), we can rewrite this as\n",
    "\n",
    "\\begin{equation}\n",
    "\\mathrm{\\frac{[NO_2]}{[NO]}} = \\frac{k_2\\mathrm{[O_3]}}{J_{\\mathrm{NO_2}}}\n",
    "\\tag{5}\n",
    "\\end{equation}\n",
    "\n",
    "#### Exercise 2: NO$_2$ in photostationary state\n",
    "\n",
    "> What is the NO$_2$ mole fraction (in ppb) in photostationary state when [O$_3$] = 30 ppb and [NO] = 10 ppb? You can use the rate coefficients $J_{\\mathrm{NO_2}}$ = 1 $\\cdot$ 10$^{-3}$ s$^{-1}$ and $k_2$ = 1.7 $\\cdot$ 10$^{-14}$ cm$^3$ molecule$^{-1}$ s$^{-1}$; and for the number density of air $n_{\\mathrm{air}}$ = 2.46 $\\cdot$ 10$^{19}$ molecules m$^{-3}$."
   ]
  },
  {
   "cell_type": "code",
   "execution_count": null,
   "metadata": {},
   "outputs": [],
   "source": [
    "#### INPUTS\n",
    "\n",
    "# -- Mixing ratios\n",
    "O3_ppb = 30 # ppb\n",
    "NO_ppb = 10 # ppb\n",
    "\n",
    "# -- Rate coefficients\n",
    "JNO2 = 1e-3 # 1/s\n",
    "k2 = 1.7e-14 # cm3/molecule/s\n",
    "\n",
    "# -- Number density air\n",
    "nair = 2.46e19 # molecules/cm3\n",
    "\n",
    "#### CALCULATION\n",
    "\n",
    "# -- Calculate number densities\n",
    "O3 = O3_ppb*1e-9*nair # molecules/cm3\n",
    "NO = NO_ppb*1e-9*nair # molecules/cm3\n",
    "\n",
    "# -- Calculate NO2 (based on Eq. 5)\n",
    "NO2 = NO*k2*O3/JNO2 # molecules/cm3\n",
    "\n",
    "# -- Calculate mixing ratio in ppb\n",
    "NO2_ppb = NO2/(1e-9*nair) # ppb\n",
    "\n",
    "#### OUTPUT\n",
    "\n",
    "# -- Print result\n",
    "print('NO2 in ppb:')\n",
    "print(NO2_ppb)"
   ]
  },
  {
   "cell_type": "markdown",
   "metadata": {},
   "source": [
    "> The answer should be [NO$_2$] $\\approx$ 125 ppb. Note that this is a facor 12.5 more than the NO mixing ratio (10 ppb). In the following section we will further look at the relative abundance of NO and NO$_2$ and considering the effect of the incoming light on this balance.\n",
    "\n",
    "\n",
    "First we introduce NO$_x$ as the sum of NO and NO$_2$\n",
    "\n",
    "\\begin{equation}\n",
    "\\mathrm{[NO_x]= [NO] + [NO_2]}\n",
    "\\tag{6}\n",
    "\\end{equation}\n",
    "\n",
    "We can re-arrange this equation into\n",
    "\n",
    "\\begin{equation}\n",
    "\\mathrm{[NO] = [NO_x] - [NO_2] = [NO_x] - [NO]\\frac{[NO_2]}{[NO]}}\n",
    "\\tag{7}\n",
    "\\end{equation}\n",
    "\n",
    "Which can be rewritten further as\n",
    "\n",
    "\\begin{equation}\n",
    "\\mathrm{[NO]\\left(1+\\frac{[NO_2]}{[NO]}\\right)=[NO_x]}\n",
    "\\tag{8}\n",
    "\\end{equation}\n",
    "\n",
    "From which an expression for [NO] can be derived\n",
    "\n",
    "\\begin{equation}\n",
    "\\mathrm{[NO]=\\frac{[NO_x]}{1+\\frac{[NO_2]}{[NO]}}}\n",
    "\\tag{9}\n",
    "\\end{equation}\n",
    "\n",
    "If [NO$_{\\mathrm{x}}$] and the [NO$_2$]/[NO] ratio are known, we can first calculate [NO$_2$] from Eq. 9 and then calcualte [NO] from Eq. 6.\n",
    "\n",
    "#### Exercise 3: Effect of incoming radiation on NO and NO$_2$ mixing ratios\n",
    "\n",
    "> How do [NO] and [NO$_2$] depend on the incoming radiation? Plot the mixing ratios of NO and NO$_2$ (in ppb) as a function of the photolysis rate constant $J_{\\mathrm{NO_2}}$ (that is related to incoming solar radiation) and test your hypothesis. Use O$_3$ = 30 ppb and [NO$_{\\mathrm{x}}$] = 135 ppb and let $J_{\\mathrm{NO_2}}$ vary from 0 to 1 $\\cdot$ 10$^{-3}$ s$^{-1}$."
   ]
  },
  {
   "cell_type": "code",
   "execution_count": null,
   "metadata": {},
   "outputs": [],
   "source": [
    "#### INPUTS\n",
    "\n",
    "# -- Mixing ratios\n",
    "O3_ppb = 30 # ppb\n",
    "NOx_ppb = 135 # ppb\n",
    "\n",
    "# -- Rate coefficients\n",
    "JNO2_min = 0 # 1/s\n",
    "JNO2_max = 1e-3 # 1/s\n",
    "k2 = 1.7e-14 # cm3/molecule/s\n",
    "\n",
    "# -- Number density air\n",
    "nair = 2.46e19 # molecules/cm3\n",
    "\n",
    "#### CALCULATION\n",
    "\n",
    "# -- Create range in JNO2\n",
    "JNO2 = np.linspace(JNO2_min,JNO2_max) # 1/s\n",
    "\n",
    "# -- Calculate number density\n",
    "O3 = O3_ppb*1e-9*nair # molecules/cm3\n",
    "\n",
    "# -- Calculate NO2/NO ratio (Eq. 5)\n",
    "NO2_NO_ratio = k2*O3/JNO2 # molecules/cm3\n",
    "\n",
    "# -- Calculate NO and NO2 mixing ratios\n",
    "NO_ppb = NOx_ppb/(1+NO2_NO_ratio) # ppb\n",
    "NO2_ppb = NOx_ppb-NO_ppb # ppb\n",
    "\n",
    "#### OUTPUT\n",
    "\n",
    "# -- Plot results\n",
    "plt.figure()\n",
    "plt.plot(JNO2,NOx_ppb*np.ones(len(JNO2)),'-',label='NO$_x$')\n",
    "plt.plot(JNO2,NO_ppb,'-',label='NO')\n",
    "plt.plot(JNO2,NO2_ppb,'-',label='NO$_2$')\n",
    "plt.legend(fontsize=12)\n",
    "plt.xlabel('J$_{NO_2}$ (s$^{-1}$)',fontsize=12)\n",
    "plt.ylabel('Mixing ratios (ppb)',fontsize=12)\n",
    "plt.title('Photostationary state',fontsize=12)\n",
    "plt.show()"
   ]
  },
  {
   "cell_type": "markdown",
   "metadata": {},
   "source": [
    "> We see that the abundances of NO and NO$_2$ depend on the photolysis rate constant $J_{\\mathrm{NO_2}}$ (that is related to incoming radiation). As a follow-up question: how does the ozone level affect the partitioning between NO and NO$_2$? You can formulate a hypothesis and modify the specified O$_3$ value in the code above to test your hypothesis. "
   ]
  },
  {
   "cell_type": "markdown",
   "metadata": {},
   "source": [
    "---"
   ]
  },
  {
   "cell_type": "markdown",
   "metadata": {},
   "source": [
    "## 3. Further reading and exploring\n",
    "\n",
    "This Jupyter Notebook remains at your disposal and you are free to experiment further with it. Interested students can go beyond changing values in the experiments, to modifying the code, e.g. to include processes that were now missing.\n",
    "\n",
    "Here we explored the exchange between O$_3$, NO and NO$_2$. So far, we did not consider the effect of hydrocarbons. If you want to learn more about this, check out Chapter 12 in the text book 'Introduction to Atmospheric Chemistry' by Daniel J. Jacob (http://acmg.seas.harvard.edu/people/faculty/djj/book/)\n",
    "\n",
    "#### Challenge: Interpreting urban measurements\n",
    "\n",
    "> Go to www.luchtmeetnet.nl and find a measurement station that has data for O$_3$, NO and NO$_2$. Try to explain the features that you see in the signal (e.g. What causes the highs and lows? How large is the ratio between NO and NO$_2$ abundance during daytime?) and note the features that can not be explained with the theory described today."
   ]
  }
 ],
 "metadata": {
  "kernelspec": {
   "display_name": "Python 2",
   "language": "python",
   "name": "python2"
  },
  "language_info": {
   "codemirror_mode": {
    "name": "ipython",
    "version": 2
   },
   "file_extension": ".py",
   "mimetype": "text/x-python",
   "name": "python",
   "nbconvert_exporter": "python",
   "pygments_lexer": "ipython2",
   "version": "2.7.16"
  }
 },
 "nbformat": 4,
 "nbformat_minor": 2
}
